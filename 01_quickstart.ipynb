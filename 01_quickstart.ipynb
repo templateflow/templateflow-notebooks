{
 "cells": [
  {
   "cell_type": "markdown",
   "metadata": {},
   "source": [
    "## Quick start with _TemplateFlow Client_ API\n",
    "\n",
    "This notebook showcases elementary functionality of the _TemplateFlow_ API. We begin by importing the _TemplateFlow_ Python client."
   ]
  },
  {
   "cell_type": "code",
   "execution_count": 1,
   "metadata": {},
   "outputs": [
    {
     "name": "stdout",
     "output_type": "stream",
     "text": [
      "Using TemplateFlow Client version 0.7.1\n"
     ]
    }
   ],
   "source": [
    "import templateflow\n",
    "import templateflow.api as tflow\n",
    "\n",
    "print(f'Using TemplateFlow Client version {templateflow.__version__}')"
   ]
  },
  {
   "cell_type": "markdown",
   "metadata": {},
   "source": [
    "### Finding templates\n",
    "\n",
    "At the time of writing, there are 15 templates available in the _TemplateFlow Archive_. We can use the `templates()` function to obtain the unique resource identifiers for all currently available templates."
   ]
  },
  {
   "cell_type": "code",
   "execution_count": 2,
   "metadata": {},
   "outputs": [
    {
     "name": "stdout",
     "output_type": "stream",
     "text": [
      "16 templates:\n",
      "-------------------\n",
      "Fischer344\n",
      "MNI152Lin\n",
      "MNI152NLin2009cAsym\n",
      "MNI152NLin2009cSym\n",
      "MNI152NLin6Asym\n",
      "MNI152NLin6Sym\n",
      "MNIInfant\n",
      "MNIPediatricAsym\n",
      "NKI\n",
      "OASIS30ANTs\n",
      "PNC\n",
      "RESILIENT\n",
      "UNCInfant\n",
      "WHS\n",
      "fsLR\n",
      "fsaverage\n"
     ]
    }
   ],
   "source": [
    "templates = tflow.templates()\n",
    "\n",
    "# Print template identifiers\n",
    "ident_fmt = '\\n'.join(templates)\n",
    "print(f\"{len(templates)} templates:\\n-------------------\\n{ident_fmt}\")"
   ]
  },
  {
   "cell_type": "markdown",
   "metadata": {},
   "source": [
    "### Accessing metadata\n",
    "\n",
    "We can query metadata associated with individual data files (e.g., a volume or a surface) or general metadata of the template. For example, the method `get_metadata(<template_id>)` returns the general metadata as a dictionary:"
   ]
  },
  {
   "cell_type": "code",
   "execution_count": 3,
   "metadata": {},
   "outputs": [
    {
     "data": {
      "text/plain": [
       "{'Authors': ['Goerzen, D',\n",
       "  'Fowler, C',\n",
       "  'Devenyi, GA',\n",
       "  'Germann, J',\n",
       "  'Madularu, D',\n",
       "  'Chakravarty, MM',\n",
       "  'Near, J'],\n",
       " 'BIDSVersion': '1.1.0',\n",
       " 'Curators': ['MacNicol E', 'Esteban O'],\n",
       " 'Identifier': 'Fischer344',\n",
       " 'License': 'CC-by-nc-sa-4.0 International',\n",
       " 'Name': 'MRI-Derived Neuroanatomical Atlas of the Fischer 344 Rat Brain',\n",
       " 'ReferencesAndLinks': ['https://doi.org/10.5281/zenodo.3555555',\n",
       "  'https://doi.org/10.1038/s41598-020-63965-x'],\n",
       " 'TemplateFlowVersion': '1.0.0'}"
      ]
     },
     "execution_count": 3,
     "metadata": {},
     "output_type": "execute_result"
    }
   ],
   "source": [
    "# Get the full, general metadata dictionary for the Fischer344 rodent template\n",
    "tflow.get_metadata('Fischer344')"
   ]
  },
  {
   "cell_type": "markdown",
   "metadata": {},
   "source": [
    "Accordingly, to obtain the usage license for any template, we can select the relevant field from the template's metadata dictionary."
   ]
  },
  {
   "cell_type": "code",
   "execution_count": 4,
   "metadata": {},
   "outputs": [
    {
     "data": {
      "text/plain": [
       "'CC BY 4.0'"
      ]
     },
     "execution_count": 4,
     "metadata": {},
     "output_type": "execute_result"
    }
   ],
   "source": [
    "# Get the usage license for the OASIS30ANTs template\n",
    "tflow.get_metadata('OASIS30ANTs')['License']"
   ]
  },
  {
   "cell_type": "markdown",
   "metadata": {},
   "source": [
    "Similarly, we can compile desired metadata from all templates. Below, we retrieve for each template its full name, the list of contributing authors, and the usage license."
   ]
  },
  {
   "cell_type": "code",
   "execution_count": 5,
   "metadata": {},
   "outputs": [
    {
     "data": {
      "text/html": [
       "<div>\n",
       "<style scoped>\n",
       "    .dataframe tbody tr th:only-of-type {\n",
       "        vertical-align: middle;\n",
       "    }\n",
       "\n",
       "    .dataframe tbody tr th {\n",
       "        vertical-align: top;\n",
       "    }\n",
       "\n",
       "    .dataframe thead th {\n",
       "        text-align: right;\n",
       "    }\n",
       "</style>\n",
       "<table border=\"1\" class=\"dataframe\">\n",
       "  <thead>\n",
       "    <tr style=\"text-align: right;\">\n",
       "      <th></th>\n",
       "      <th>Name</th>\n",
       "      <th>Authors</th>\n",
       "      <th>License</th>\n",
       "    </tr>\n",
       "  </thead>\n",
       "  <tbody>\n",
       "    <tr>\n",
       "      <td>Fischer344</td>\n",
       "      <td>MRI-Derived Neuroanatomical Atlas of the Fisch...</td>\n",
       "      <td>[Goerzen, D, Fowler, C, Devenyi, GA, Germann, ...</td>\n",
       "      <td>CC-by-nc-sa-4.0 International</td>\n",
       "    </tr>\n",
       "    <tr>\n",
       "      <td>MNI152Lin</td>\n",
       "      <td>Linear ICBM Average Brain (ICBM152) Stereotaxi...</td>\n",
       "      <td>[Evans AC, Fox PT, Lancaster J, Zilles K, Wood...</td>\n",
       "      <td>See LICENSE file</td>\n",
       "    </tr>\n",
       "    <tr>\n",
       "      <td>MNI152NLin2009cAsym</td>\n",
       "      <td>ICBM 152 Nonlinear Asymmetrical template versi...</td>\n",
       "      <td>[Fonov V, Evans AC, Botteron K, Almli CR, McKi...</td>\n",
       "      <td>See LICENSE file</td>\n",
       "    </tr>\n",
       "    <tr>\n",
       "      <td>MNI152NLin2009cSym</td>\n",
       "      <td>ICBM 152 Nonlinear Symmetrical template versio...</td>\n",
       "      <td>[Fonov V, Evans AC, Botteron K, Almli CR, McKi...</td>\n",
       "      <td>See LICENSE file</td>\n",
       "    </tr>\n",
       "    <tr>\n",
       "      <td>MNI152NLin6Asym</td>\n",
       "      <td>FSL's MNI ICBM 152 non-linear 6th Generation A...</td>\n",
       "      <td>[Janke AL]</td>\n",
       "      <td>See LICENSE file</td>\n",
       "    </tr>\n",
       "    <tr>\n",
       "      <td>MNI152NLin6Sym</td>\n",
       "      <td>ICBM 152 non-linear 6th Generation Symmetric A...</td>\n",
       "      <td>[Grabner G, Janke AL, Budge MM, Smith D, Prues...</td>\n",
       "      <td>See LICENSE file</td>\n",
       "    </tr>\n",
       "    <tr>\n",
       "      <td>MNIInfant</td>\n",
       "      <td>MNI Unbiased nonlinear Infant Atlases 0-4.5yr.</td>\n",
       "      <td>[Fonov V, Evans AC, Botteron K, Almli CR, McKi...</td>\n",
       "      <td>See LICENSE file</td>\n",
       "    </tr>\n",
       "    <tr>\n",
       "      <td>MNIPediatricAsym</td>\n",
       "      <td>MNI's unbiased standard MRI template for pedia...</td>\n",
       "      <td>[Fonov V, Evans AC, Botteron K, Almli CR, McKi...</td>\n",
       "      <td>MIT-derived. See LICENSE file</td>\n",
       "    </tr>\n",
       "    <tr>\n",
       "      <td>NKI</td>\n",
       "      <td>ANTs' NKI-1 template</td>\n",
       "      <td>[Avants BB, Tustison NJ, Song G, Cook PA, Klei...</td>\n",
       "      <td>CC BY 4.0</td>\n",
       "    </tr>\n",
       "    <tr>\n",
       "      <td>OASIS30ANTs</td>\n",
       "      <td>OASIS30 - Generated with ANTs for MICCAI 2016</td>\n",
       "      <td>[Avants BB, Tustison NJ, Song G, Cook PA, Klei...</td>\n",
       "      <td>CC BY 4.0</td>\n",
       "    </tr>\n",
       "    <tr>\n",
       "      <td>PNC</td>\n",
       "      <td>Philadelphia Neurodevelopmental Cohort template</td>\n",
       "      <td>[Satterthwaite TD, Connolly JJ, Ruparel K, Cal...</td>\n",
       "      <td>CC BY 4.0</td>\n",
       "    </tr>\n",
       "    <tr>\n",
       "      <td>RESILIENT</td>\n",
       "      <td>Age-specific adult rat brain MRI templates and...</td>\n",
       "      <td>[MacNicol, E, Wright, P, Kim, E, Brusini, I, E...</td>\n",
       "      <td>CC-BY-4.0 International</td>\n",
       "    </tr>\n",
       "    <tr>\n",
       "      <td>UNCInfant</td>\n",
       "      <td>UNC Infant 0-1-2 Atlases</td>\n",
       "      <td>[Feng Shi, Pew-Thian Yap, Guorong Wu, Hongjun ...</td>\n",
       "      <td>CC-BY</td>\n",
       "    </tr>\n",
       "    <tr>\n",
       "      <td>WHS</td>\n",
       "      <td>Waxholm Space atlas of the Sprague Dawley rat ...</td>\n",
       "      <td>[Papp EA, Leergaard TB, Calabrese E, Johnson G...</td>\n",
       "      <td>CC-by-nc-sa-4.0 International</td>\n",
       "    </tr>\n",
       "    <tr>\n",
       "      <td>fsLR</td>\n",
       "      <td>HCP Pipelines' fsLR template</td>\n",
       "      <td>[Tim Coalson, Matt Glasser, Mike Harms, David ...</td>\n",
       "      <td>See LICENSE file</td>\n",
       "    </tr>\n",
       "    <tr>\n",
       "      <td>fsaverage</td>\n",
       "      <td>FreeSurfer's fsaverage template</td>\n",
       "      <td>[]</td>\n",
       "      <td>See LICENSE file</td>\n",
       "    </tr>\n",
       "  </tbody>\n",
       "</table>\n",
       "</div>"
      ],
      "text/plain": [
       "                                                                  Name  \\\n",
       "Fischer344           MRI-Derived Neuroanatomical Atlas of the Fisch...   \n",
       "MNI152Lin            Linear ICBM Average Brain (ICBM152) Stereotaxi...   \n",
       "MNI152NLin2009cAsym  ICBM 152 Nonlinear Asymmetrical template versi...   \n",
       "MNI152NLin2009cSym   ICBM 152 Nonlinear Symmetrical template versio...   \n",
       "MNI152NLin6Asym      FSL's MNI ICBM 152 non-linear 6th Generation A...   \n",
       "MNI152NLin6Sym       ICBM 152 non-linear 6th Generation Symmetric A...   \n",
       "MNIInfant               MNI Unbiased nonlinear Infant Atlases 0-4.5yr.   \n",
       "MNIPediatricAsym     MNI's unbiased standard MRI template for pedia...   \n",
       "NKI                                               ANTs' NKI-1 template   \n",
       "OASIS30ANTs              OASIS30 - Generated with ANTs for MICCAI 2016   \n",
       "PNC                    Philadelphia Neurodevelopmental Cohort template   \n",
       "RESILIENT            Age-specific adult rat brain MRI templates and...   \n",
       "UNCInfant                                     UNC Infant 0-1-2 Atlases   \n",
       "WHS                  Waxholm Space atlas of the Sprague Dawley rat ...   \n",
       "fsLR                                      HCP Pipelines' fsLR template   \n",
       "fsaverage                              FreeSurfer's fsaverage template   \n",
       "\n",
       "                                                               Authors  \\\n",
       "Fischer344           [Goerzen, D, Fowler, C, Devenyi, GA, Germann, ...   \n",
       "MNI152Lin            [Evans AC, Fox PT, Lancaster J, Zilles K, Wood...   \n",
       "MNI152NLin2009cAsym  [Fonov V, Evans AC, Botteron K, Almli CR, McKi...   \n",
       "MNI152NLin2009cSym   [Fonov V, Evans AC, Botteron K, Almli CR, McKi...   \n",
       "MNI152NLin6Asym                                             [Janke AL]   \n",
       "MNI152NLin6Sym       [Grabner G, Janke AL, Budge MM, Smith D, Prues...   \n",
       "MNIInfant            [Fonov V, Evans AC, Botteron K, Almli CR, McKi...   \n",
       "MNIPediatricAsym     [Fonov V, Evans AC, Botteron K, Almli CR, McKi...   \n",
       "NKI                  [Avants BB, Tustison NJ, Song G, Cook PA, Klei...   \n",
       "OASIS30ANTs          [Avants BB, Tustison NJ, Song G, Cook PA, Klei...   \n",
       "PNC                  [Satterthwaite TD, Connolly JJ, Ruparel K, Cal...   \n",
       "RESILIENT            [MacNicol, E, Wright, P, Kim, E, Brusini, I, E...   \n",
       "UNCInfant            [Feng Shi, Pew-Thian Yap, Guorong Wu, Hongjun ...   \n",
       "WHS                  [Papp EA, Leergaard TB, Calabrese E, Johnson G...   \n",
       "fsLR                 [Tim Coalson, Matt Glasser, Mike Harms, David ...   \n",
       "fsaverage                                                           []   \n",
       "\n",
       "                                           License  \n",
       "Fischer344           CC-by-nc-sa-4.0 International  \n",
       "MNI152Lin                         See LICENSE file  \n",
       "MNI152NLin2009cAsym               See LICENSE file  \n",
       "MNI152NLin2009cSym                See LICENSE file  \n",
       "MNI152NLin6Asym                   See LICENSE file  \n",
       "MNI152NLin6Sym                    See LICENSE file  \n",
       "MNIInfant                         See LICENSE file  \n",
       "MNIPediatricAsym     MIT-derived. See LICENSE file  \n",
       "NKI                                      CC BY 4.0  \n",
       "OASIS30ANTs                              CC BY 4.0  \n",
       "PNC                                      CC BY 4.0  \n",
       "RESILIENT                  CC-BY-4.0 International  \n",
       "UNCInfant                                    CC-BY  \n",
       "WHS                  CC-by-nc-sa-4.0 International  \n",
       "fsLR                              See LICENSE file  \n",
       "fsaverage                         See LICENSE file  "
      ]
     },
     "execution_count": 5,
     "metadata": {},
     "output_type": "execute_result"
    }
   ],
   "source": [
    "import pandas as pd\n",
    "\n",
    "metadata_fields = ['Name', 'Authors', 'License']\n",
    "pd.DataFrame({col: [tflow.get_metadata(tpl)[col] for tpl in templates]\n",
    "              for col in metadata_fields}, index=templates)"
   ]
  },
  {
   "cell_type": "markdown",
   "metadata": {},
   "source": [
    "The `get_citations` method allows for easy retrieval and formatting of references. By default, the method gives DOIs for each citation, but it can also be configured to return citations in BibTeX format. (This additionally requires the `doi2bib` package.)"
   ]
  },
  {
   "cell_type": "code",
   "execution_count": 6,
   "metadata": {},
   "outputs": [
    {
     "name": "stdout",
     "output_type": "stream",
     "text": [
      "@article{2011,\n",
      "\tdoi = {10.1371/journal.pone.0018746},\n",
      "\turl = {https://doi.org/10.1371%2uncinfant1.pone.0018746},\n",
      "\tyear = 2011,\n",
      "\tmonth = {apr},\n",
      "\tpublisher = {Public Library of Science ({PLoS})},\n",
      "\tvolume = {6},\n",
      "\tnumber = {4},\n",
      "\tpages = {e18746},\n",
      "\tauthor = {Feng Shi and Pew-Thian Yap and Guorong Wu and Hongjun Jia and John H. Gilmore and Weili Lin and Dinggang Shen},\n",
      "\teditor = {Hitoshi Okazawa},\n",
      "\ttitle = {Infant Brain Atlases from Neonates to 1- and 2-Year-Olds}\n",
      "}\n"
     ]
    }
   ],
   "source": [
    "print(tflow.get_citations('UNCInfant', bibtex=True)[0])"
   ]
  },
  {
   "cell_type": "markdown",
   "metadata": {},
   "source": [
    "### Accessing data\n",
    "\n",
    "To retrieve the template resources themselves, we use the `get` method. This method accepts as arguments the unique template identifier together with any BIDS-like entities: key-value pairs specifying the resource to retrieve. It returns a path to the requested resource, which can (for example) be used with `nibabel` to read the resource into memory. The table below details valid entities for the API.\n",
    "\n",
    "|Data entity|API query example|Description|\n",
    "|:-|:-|:-|\n",
    "|Template|`\"MNI152Lin\"`|The template dataset to which an image or other data file belongs.|\n",
    "|Resolution|`resolution=1`|The image resolution. Each resolution is assigned a key, which is defined in the `res` field of `template_description.json`.|\n",
    "|Mask|`desc=\"brain\", suffix=\"mask\"`|Indicates that the image is a binary-valued annotation, where voxels labelled 1 are part of the mask.|\n",
    "|Discrete segmentation|`desc=\"malf\", suffix=\"dseg\"`|Indicates that the image is an integer-valued annotation. Each segmentation image file (`.nii.gz` format) is paired with a dictionary of segment names (`.tsv` format).|\n",
    "|Probabilistic segmentation|`label=\"CSF\", suffix=\"probseg\"`|Indicates that the image is a probabilistic annotation, wherein the value of each voxel indicates the probability of that voxel belonging to the specified label.|\n",
    "|Atlas|`atlas=\"Schaefer\", desc=\"7Network\"`|The atlas to which a segmentation file belongs.|\n",
    "|Transformation|`from=\"MNI152Lin\", suffix=\"xfm\"`|File containing a mapping between 2 stereotaxic coordinate spaces. The source space is defined in the `from` field, while the target space is defined in the `tpl` field.|\n",
    "|Image modality|`suffix=\"T1w\"`|For non-annotation brain images, the suffix indicates whether the image is T1-weighted (`T1w`), T2-weighted (`T2w`), proton density-weighted (`PD`), or T2*-weighted (`T2star`).|\n",
    "|Template cohort|`cohort=1`|Subsample of a dataset used to generate an average template.|\n",
    "\n",
    "_TemplateFlow_ uses a lazy loading scheme for resource retrieval: at installation, the local copy of the archive tree contains only pointers to cloud-based resources. As data resources are requested (for instance using the `get` method), they are synced from the cloud to the local file system. If the data have already been downloaded, they can be retrieved from the local system cache without repeating the download.\n",
    "\n",
    "As an example, we can use the `get` method to retrieve a path to the 100-node Schaefer atlas."
   ]
  },
  {
   "cell_type": "code",
   "execution_count": 7,
   "metadata": {},
   "outputs": [
    {
     "name": "stdout",
     "output_type": "stream",
     "text": [
      "/Users/rastko/.cache/templateflow/tpl-MNI152NLin2009cAsym/tpl-MNI152NLin2009cAsym_res-01_atlas-Schaefer2018_desc-100Parcels7Networks_dseg.nii.gz\n"
     ]
    }
   ],
   "source": [
    "print(tflow.get(\n",
    "    'MNI152NLin2009cAsym',\n",
    "    resolution=1,\n",
    "    atlas='Schaefer2018',\n",
    "    desc='100Parcels7Networks',\n",
    "))"
   ]
  },
  {
   "cell_type": "markdown",
   "metadata": {},
   "source": [
    "...or the T1-weighted `MNI152NLin6Asym` template."
   ]
  },
  {
   "cell_type": "code",
   "execution_count": 8,
   "metadata": {},
   "outputs": [
    {
     "name": "stdout",
     "output_type": "stream",
     "text": [
      "/Users/rastko/.cache/templateflow/tpl-MNI152NLin6Asym/tpl-MNI152NLin6Asym_res-01_T1w.nii.gz\n"
     ]
    }
   ],
   "source": [
    "print(tflow.get(\n",
    "    \"MNI152NLin6Asym\",\n",
    "    desc=None,\n",
    "    resolution=1,\n",
    "    suffix=\"T1w\"\n",
    "))"
   ]
  },
  {
   "cell_type": "markdown",
   "metadata": {},
   "source": [
    "By omitting arguments, we retrieve any data that match the remaining (specified) arguments."
   ]
  },
  {
   "cell_type": "code",
   "execution_count": 9,
   "metadata": {},
   "outputs": [
    {
     "data": {
      "text/plain": [
       "[PosixPath('/Users/rastko/.cache/templateflow/tpl-MNI152NLin6Asym/tpl-MNI152NLin6Asym_res-01_atlas-HOCPA_probseg.nii.gz'),\n",
       " PosixPath('/Users/rastko/.cache/templateflow/tpl-MNI152NLin6Asym/tpl-MNI152NLin6Asym_res-01_atlas-HOCPAL_probseg.nii.gz'),\n",
       " PosixPath('/Users/rastko/.cache/templateflow/tpl-MNI152NLin6Asym/tpl-MNI152NLin6Asym_res-01_atlas-HOSPA_probseg.nii.gz')]"
      ]
     },
     "execution_count": 9,
     "metadata": {},
     "output_type": "execute_result"
    }
   ],
   "source": [
    "tflow.get(\"MNI152NLin6Asym\", resolution=1, suffix='probseg')"
   ]
  },
  {
   "cell_type": "markdown",
   "metadata": {},
   "source": [
    "### Integrating _TemplateFlow_ into processing workflows\n",
    "\n",
    "\n",
    "#### Motivation\n",
    "\n",
    "_TemplateFlow_ maximizes the accessibility and reuse potential of templates and atlases. For example, let's reuse the base configuration file for FSL FEAT we proposed in our paper (Esteban et al., 2019). The design file `design.fsf` specifies a simple preprocessing workflow with FSL tools. The simplified code listing below shows that, just to make non-default templates available to FSL using the graphical user interface (GUI), at least five steps are necessary:\n",
    "```bash\n",
    "# 1. User determines two nondefault templates they want to spatially normalize into\n",
    "# 2. User manually downloads templates, extracts the required files from packages\n",
    "$ curl -sSL <url> | tar zxv --no-same-owner -C /data/templates/\n",
    "# 3. User opens FSL's GUI, edits the target template box content pointing to the appropriate files\n",
    "# 4. User generates FSL configuration files to permit batch execution on the command line\n",
    "# 5. For the default and the two nondefault templates, execute FSL's feat:\n",
    "$ feat design_<template>.fsf\n",
    "```\n",
    "\n",
    "The outputs of each `feat design_<template>.fsf` call will follow the pre-specified patterns of FSL, with whatever customization the user has introduced into the design file. The user, therefore, must then adapt the downstream analysis tools to correctly interpret the derived dataset, in each standard space, or reformat the output dataset according to the expectations of the analysis tools.\n",
    "  \n",
    "The user is also responsible for all aspects of provenance tracking and adequately reporting them in their communications. Information such as version of the template (or download date), citations to relevant papers, and other metadata (e.g., RRIDs) must be accounted for manually throughout the research process.\n",
    "\n",
    "<hr>"
   ]
  },
  {
   "cell_type": "markdown",
   "metadata": {},
   "source": [
    "#### _TemplateFlow_ integration with `fMRIPrep`\n",
    "\n",
    "In contrast, tools using _TemplateFlow_ dramatically simplify the whole process (note that `MNI152NLin2009cAsym` and `OASIS30Ants` are the two templates not found within the FSL distribution, and `MNI152NLin6Asym` denotes _FSL's MNI space_ (i.e., the default FSL template):\n",
    "  \n",
    "```bash\n",
    "$ fmriprep /data /derivatives participant --output-spaces MNI152NLin2009cAsym MNI152NLin6Asym OASIS30Ants\n",
    "```\n",
    "\n",
    "_fMRIPrep_ generates the results with BIDS-Derivatives organization for the three templates. The tool also leverages _TemplateFlow_ to generate a _boilerplate citation text_ that includes the full names, versions and references to credit the template's authors for each of the templates involved.\n",
    "  \n",
    "_fMRIPrep_ internally stages one spatial normalization workflow for each of the output spaces. Each of these normalization sub-workflows uses a simple line of Python code to retrieve the necessary resources from _TemplateFlow_ using the _TemplateFlow Client_ interface:"
   ]
  },
  {
   "cell_type": "code",
   "execution_count": 10,
   "metadata": {},
   "outputs": [
    {
     "name": "stdout",
     "output_type": "stream",
     "text": [
      "/Users/rastko/.cache/templateflow/tpl-MNI152NLin6Asym/tpl-MNI152NLin6Asym_res-01_T1w.nii.gz\n"
     ]
    }
   ],
   "source": [
    "tpl_ref_file = tflow.get(\"MNI152NLin6Asym\", desc=None, resolution=1, suffix=\"T1w\")\n",
    "print(tpl_ref_file)"
   ]
  },
  {
   "cell_type": "markdown",
   "metadata": {},
   "source": [
    "<hr>\n",
    "\n",
    "#### Obtaining templates for registration\n",
    "\n",
    "Outside of `fMRIPrep`, we can also use _TemplateFlow_ to streamline workflows that make use of standard spatial references, including (for instance) registration and segmentation workflows. For example, we can use an inline call to the Python client to retrieve the template (or, as necessary, a mask or tissue probability map) to build a call to SyN-based ANTs registration in a short bash script:)"
   ]
  },
  {
   "cell_type": "code",
   "execution_count": 11,
   "metadata": {
    "scrolled": true
   },
   "outputs": [
    {
     "name": "stdout",
     "output_type": "stream",
     "text": [
      "antsRegistrationSyN.sh -d 3 -f /Users/rastko/.cache/templateflow/tpl-MNI152NLin2009cAsym/tpl-MNI152NLin2009cAsym_res-01_T1w.nii.gz -m /data/ds-001/sub-001/ses-001/sub-001_ses-001_T1w.nii.gz -o /tmp/sub-001_ses-001_space-MNI152NLin2009cAsym_T1w\n",
      "\n",
      "antsRegistrationSyN.sh -d 3 -f /Users/rastko/.cache/templateflow/tpl-MNI152NLin6Asym/tpl-MNI152NLin6Asym_res-01_T1w.nii.gz -m /data/ds-001/sub-001/ses-001/sub-001_ses-001_T1w.nii.gz -o /tmp/sub-001_ses-001_space-MNI152NLin6Asym_T1w\n",
      "\n",
      "antsRegistrationSyN.sh -d 3 -f /Users/rastko/.cache/templateflow/tpl-OASIS30ANTs/tpl-OASIS30ANTs_res-01_T1w.nii.gz -m /data/ds-001/sub-001/ses-001/sub-001_ses-001_T1w.nii.gz -o /tmp/sub-001_ses-001_space-OASIS30ANTs_T1w\n",
      "\n"
     ]
    }
   ],
   "source": [
    "%%bash\n",
    "\n",
    "templates=(\n",
    "    MNI152NLin2009cAsym\n",
    "    MNI152NLin6Asym\n",
    "    OASIS30ANTs\n",
    ")\n",
    "\n",
    "for template in ${templates[@]}\n",
    "    do\n",
    "    template_path=$(\n",
    "        python -c \"\n",
    "import templateflow.api as tflow\n",
    "print(tflow.get('${template}', desc=None, resolution=1, suffix='T1w'))\n",
    "        \"\n",
    "    )\n",
    "    echo antsRegistrationSyN.sh \\\n",
    "        -d 3 \\\n",
    "        -f $template_path \\\n",
    "        -m /data/ds-001/sub-001/ses-001/sub-001_ses-001_T1w.nii.gz \\\n",
    "        -o /tmp/sub-001_ses-001_space-${template}_T1w\n",
    "    echo\n",
    "done"
   ]
  },
  {
   "cell_type": "markdown",
   "metadata": {},
   "source": [
    "<hr>\n",
    "\n",
    "#### Masks\n",
    "\n",
    "One detail glossed over in the FSL example above is that, for a robust spatial normalization process, a precise binary mask of the brain is generally used. While FSL would require the user to manually set this mask up in the GUI, in the case of _TemplateFlow_, it requires a second minimal call:"
   ]
  },
  {
   "cell_type": "code",
   "execution_count": 12,
   "metadata": {},
   "outputs": [
    {
     "name": "stdout",
     "output_type": "stream",
     "text": [
      "/Users/rastko/.cache/templateflow/tpl-MNI152NLin6Asym/tpl-MNI152NLin6Asym_res-01_desc-brain_mask.nii.gz\n"
     ]
    }
   ],
   "source": [
    "msk_ref_file = tflow.get(\"MNI152NLin6Asym\", desc=\"brain\", resolution=1, suffix=\"mask\")\n",
    "print(msk_ref_file)"
   ]
  },
  {
   "cell_type": "markdown",
   "metadata": {},
   "source": [
    "These examples are extreme simplifications of what a pipeline developer can automate and make more robust by integrating _TemplateFlow_ in their workflows."
   ]
  },
  {
   "cell_type": "markdown",
   "metadata": {},
   "source": [
    "### Accessing file versions\n",
    "\n",
    "_TemplateFlow_ automatically tracks versions of all archived datasets and resources through _DataLad_. Currently, to access the version hashes of template resources, you must configure _TemplateFlow_ to use _DataLad_ for downloading files. A simple way to do this is by including `export TEMPLATEFLOW_USE_DATALAD=1` in your `.bash_profile`. Under the hood, _DataLad_ uses `git-annex`, an extension of Git designed for use with large files. Suppose we want to get the hash for the current version of the `PNC` template. Because _DataLad_ uses `git-annex`, we can simply use `git`'s native logging functionality to obtain this."
   ]
  },
  {
   "cell_type": "code",
   "execution_count": 13,
   "metadata": {},
   "outputs": [
    {
     "name": "stdout",
     "output_type": "stream",
     "text": [
      "d24b6ed7a425574e21f8b3a96bd07674a518741a maint: use templateflow/gha-workflow-superdataset script\n"
     ]
    }
   ],
   "source": [
    "%%bash\n",
    "pushd ${TEMPLATEFLOW_HOME}/tpl-PNC >>/dev/null\n",
    "git log -n 1 --format=oneline\n",
    "popd >>/dev/null"
   ]
  },
  {
   "cell_type": "markdown",
   "metadata": {},
   "source": [
    "The hash is printed at left, and a description of the most recent change synchronised locally is printed at right. Similarly, we can also retrieve the hash of the dataset version in which any particular file was most recently changed..."
   ]
  },
  {
   "cell_type": "code",
   "execution_count": 14,
   "metadata": {},
   "outputs": [
    {
     "name": "stdout",
     "output_type": "stream",
     "text": [
      "00af2f16107b7834ff49fda3019c8531c62ed833 fix: bring template description back to git\n"
     ]
    }
   ],
   "source": [
    "%%bash\n",
    "pushd ${TEMPLATEFLOW_HOME}/tpl-PNC >>/dev/null\n",
    "git log -n 1 --format=oneline template_description.json\n",
    "popd >>/dev/null"
   ]
  },
  {
   "cell_type": "markdown",
   "metadata": {},
   "source": [
    "...or the recent version history of the dataset (or any of its files)."
   ]
  },
  {
   "cell_type": "code",
   "execution_count": 15,
   "metadata": {},
   "outputs": [
    {
     "name": "stdout",
     "output_type": "stream",
     "text": [
      "d24b6ed7a425574e21f8b3a96bd07674a518741a maint: use templateflow/gha-workflow-superdataset script\n",
      "9be4f088d62b8dbc4721da619eb4ff940ba590cb [DATALAD] Recorded changes\n",
      "87525f0a0cd52305c8bf41e2a4ada5a2f1a51ef2 enh: delete annexed GH action script\n",
      "1b3db15dc2f270103408c6bf1f1c7d68e90ca757 fix: update the GH actions\n",
      "bd0d1fecc5577ba431ab8618ff611a48d96fbb13 chore(gh-action): add update-superdataset post-hook\n",
      "2c1263afb333c3dfce5835cddbbcdee42c295c8d [DATALAD] removed content\n",
      "00af2f16107b7834ff49fda3019c8531c62ed833 fix: bring template description back to git\n",
      "9e3eb802134a110d07c05bdf1b56a8164777f7e7 delete: links to template descriptions\n",
      "d714dac28171b971c331bca95433af9d8bb4eaf0 fix: bring template description back to git\n",
      "09e5cade904f2fdf75c77442ad9a6d3a395f4cd4 fix: bring template description back to git\n",
      "98abf71886e3211299bc1a2a9ef2b6a5225da31a fix: bring template descrition back to git\n",
      "84ad77f765354d3d007c77982b6e1aac2c33c809 fix: amend list of Curators\n",
      "a8c86be1694c1e3b8f772e0cfb1980f61a75c6c2 fix: roll all 'ReferencesAndLinks' fields of the description back to lists\n",
      "4ea613d7ef73d31e8a96945dfa9e49f7a899aa56 fix: roll all 'ReferencesAndLinks' fields of the description back to lists\n",
      "c9b410f748830ca7d732f922d096e2be942c9509 [DATALAD] added content\n",
      "e56f490ba3c6d9dd66bf13021541fee70c440bbb Create LICENSE\n",
      "216c9a058deadd68560b9c4b7aa9c6a03f2525f1 update template_description.json fields to be more BIDS-like\n",
      "a354a2310fd5fb5aca2117c5f6f02d30fa90765d remove readme and fix version number\n",
      "d8cfe43eaae14020d0f2c15a361eca4ea66d8f57 metadata and changelog\n",
      "2b6ae7d2c79b976bd0ca828957ddfeeeb45879b7 [DATALAD] add files from URLs\n"
     ]
    }
   ],
   "source": [
    "%%bash\n",
    "pushd ${TEMPLATEFLOW_HOME}/tpl-PNC >>/dev/null\n",
    "git log -n 20 --format=oneline\n",
    "popd >>/dev/null"
   ]
  },
  {
   "cell_type": "markdown",
   "metadata": {},
   "source": [
    "Each hash unambiguously references a specific version of the dataset, so it can be used to ensure that collaborators use identical versions of template resources. We can use these hashes to view the dataset as it appeared at any point in its history. [See DataLad's documentation for more details](http://handbook.datalad.org/en/latest/basics/101-137-history.html#viewing-previous-versions-of-files-and-datasets)."
   ]
  },
  {
   "cell_type": "markdown",
   "metadata": {},
   "source": [
    "<hr>\n",
    "\n",
    "### Summary\n",
    "\n",
    "_TemplateFlow_ makes many aspects of working with spatial standard datasets easier. Please check out the [_TemplateFlow_ homepage](https://www.templateflow.org/) and the detailed [documentation hub](https://www.templateflow.org/python-client/master/index.html#) for _TemplateFlow_ for further information about using the client or contributing new template resources. If you still have questions, you can ask on [NeuroStars](https://neurostars.org/tag/templateflow) with the `templateflow` tag."
   ]
  }
 ],
 "metadata": {
  "kernelspec": {
   "display_name": "Python 3",
   "language": "python",
   "name": "python3"
  },
  "language_info": {
   "codemirror_mode": {
    "name": "ipython",
    "version": 3
   },
   "file_extension": ".py",
   "mimetype": "text/x-python",
   "name": "python",
   "nbconvert_exporter": "python",
   "pygments_lexer": "ipython3",
   "version": "3.7.4"
  }
 },
 "nbformat": 4,
 "nbformat_minor": 2
}
