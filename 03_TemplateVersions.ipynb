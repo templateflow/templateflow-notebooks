{
 "cells": [
  {
   "cell_type": "markdown",
   "id": "313c1dc8",
   "metadata": {},
   "source": [
    "# Accessing template versions\n",
    "\n",
    "_TemplateFlow_ automatically tracks versions of all archived datasets and resources through _DataLad_. Currently, to access the version hashes of template resources, you must configure _TemplateFlow_ to use _DataLad_ for downloading files. A simple way to do this is by including `export TEMPLATEFLOW_USE_DATALAD=1` in your `.bash_profile`. Under the hood, _DataLad_ uses `git-annex`, an extension of Git designed for use with large files. Suppose we want to get the hash for the current version of the `PNC` template. Because _DataLad_ uses `git-annex`, we can simply use `git`'s native logging functionality to obtain this."
   ]
  },
  {
   "cell_type": "code",
   "execution_count": 1,
   "id": "a7a23591",
   "metadata": {},
   "outputs": [],
   "source": [
    "import os\n",
    "from pathlib import Path\n",
    "\n",
    "os.environ[\"TEMPLATEFLOW_HOME\"] = str(Path.home() / \".templateflow\")\n",
    "os.environ[\"TEMPLATEFLOW_USE_DATALAD\"] = \"on\""
   ]
  },
  {
   "cell_type": "markdown",
   "id": "bdd13816",
   "metadata": {},
   "source": [
    "Once our environment is configure, let's import TemplateFlow so that the cache gets initialized:"
   ]
  },
  {
   "cell_type": "code",
   "execution_count": 2,
   "id": "679a042c",
   "metadata": {},
   "outputs": [],
   "source": [
    "from templateflow import api as tflow"
   ]
  },
  {
   "cell_type": "markdown",
   "id": "e78a1f6f",
   "metadata": {},
   "source": [
    "### Retrieving history\n",
    "Once the repository has been initialized, we can investigate the versioning information. For instance, let's see the explanation of the latest change of the `tpl-PNC` template:"
   ]
  },
  {
   "cell_type": "code",
   "execution_count": 3,
   "id": "eaf8fdcf",
   "metadata": {},
   "outputs": [
    {
     "name": "stdout",
     "output_type": "stream",
     "text": [
      "6fa5e21a90738a233f9f178a47b0bb78d4c45460 fix: add species to template_description.json\n"
     ]
    }
   ],
   "source": [
    "%%bash\n",
    "pushd ${TEMPLATEFLOW_HOME}/tpl-PNC >>/dev/null\n",
    "git log -n 1 --format=oneline\n",
    "popd >>/dev/null"
   ]
  },
  {
   "cell_type": "markdown",
   "id": "36734687",
   "metadata": {},
   "source": [
    "The hash is printed at left, and a description of the most recent change synchronized locally is printed at right. Similarly, we can also retrieve the hash of the dataset version in which any particular file was most recently changed..."
   ]
  },
  {
   "cell_type": "code",
   "execution_count": 4,
   "id": "54245e5b",
   "metadata": {},
   "outputs": [
    {
     "name": "stdout",
     "output_type": "stream",
     "text": [
      "e56f490ba3c6d9dd66bf13021541fee70c440bbb Create LICENSE\n"
     ]
    }
   ],
   "source": [
    "%%bash\n",
    "pushd ${TEMPLATEFLOW_HOME}/tpl-PNC >>/dev/null\n",
    "git log -n 1 --format=oneline LICENSE\n",
    "popd >>/dev/null"
   ]
  },
  {
   "cell_type": "markdown",
   "id": "9b04a1a8",
   "metadata": {},
   "source": [
    "...or the recent version history of the dataset (or any of its files)."
   ]
  },
  {
   "cell_type": "code",
   "execution_count": 5,
   "id": "6b74f495",
   "metadata": {},
   "outputs": [
    {
     "name": "stdout",
     "output_type": "stream",
     "text": [
      "6fa5e21a90738a233f9f178a47b0bb78d4c45460 fix: add species to template_description.json\n",
      "d24b6ed7a425574e21f8b3a96bd07674a518741a maint: use templateflow/gha-workflow-superdataset script\n",
      "9be4f088d62b8dbc4721da619eb4ff940ba590cb [DATALAD] Recorded changes\n",
      "87525f0a0cd52305c8bf41e2a4ada5a2f1a51ef2 enh: delete annexed GH action script\n",
      "1b3db15dc2f270103408c6bf1f1c7d68e90ca757 fix: update the GH actions\n",
      "bd0d1fecc5577ba431ab8618ff611a48d96fbb13 chore(gh-action): add update-superdataset post-hook\n",
      "2c1263afb333c3dfce5835cddbbcdee42c295c8d [DATALAD] removed content\n",
      "00af2f16107b7834ff49fda3019c8531c62ed833 fix: bring template description back to git\n",
      "9e3eb802134a110d07c05bdf1b56a8164777f7e7 delete: links to template descriptions\n",
      "d714dac28171b971c331bca95433af9d8bb4eaf0 fix: bring template description back to git\n",
      "09e5cade904f2fdf75c77442ad9a6d3a395f4cd4 fix: bring template description back to git\n",
      "98abf71886e3211299bc1a2a9ef2b6a5225da31a fix: bring template descrition back to git\n",
      "84ad77f765354d3d007c77982b6e1aac2c33c809 fix: amend list of Curators\n",
      "a8c86be1694c1e3b8f772e0cfb1980f61a75c6c2 fix: roll all 'ReferencesAndLinks' fields of the description back to lists\n",
      "4ea613d7ef73d31e8a96945dfa9e49f7a899aa56 fix: roll all 'ReferencesAndLinks' fields of the description back to lists\n",
      "c9b410f748830ca7d732f922d096e2be942c9509 [DATALAD] added content\n",
      "e56f490ba3c6d9dd66bf13021541fee70c440bbb Create LICENSE\n",
      "216c9a058deadd68560b9c4b7aa9c6a03f2525f1 update template_description.json fields to be more BIDS-like\n",
      "a354a2310fd5fb5aca2117c5f6f02d30fa90765d remove readme and fix version number\n",
      "d8cfe43eaae14020d0f2c15a361eca4ea66d8f57 metadata and changelog\n"
     ]
    }
   ],
   "source": [
    "%%bash\n",
    "pushd ${TEMPLATEFLOW_HOME}/tpl-PNC >>/dev/null\n",
    "git log -n 20 --format=oneline\n",
    "popd >>/dev/null"
   ]
  },
  {
   "cell_type": "markdown",
   "id": "a31ff969",
   "metadata": {},
   "source": [
    "Each commit hash unambiguously references a specific version of the dataset, so it can be used to ensure that collaborators use identical versions of template resources. We can use these hashes to view the dataset as it appeared at any point in its history. [See DataLad's documentation for more details](http://handbook.datalad.org/en/latest/basics/101-137-history.html#viewing-previous-versions-of-files-and-datasets)."
   ]
  },
  {
   "cell_type": "code",
   "execution_count": null,
   "id": "edca8982",
   "metadata": {},
   "outputs": [],
   "source": []
  }
 ],
 "metadata": {
  "kernelspec": {
   "display_name": "Python 3",
   "language": "python",
   "name": "python3"
  },
  "language_info": {
   "codemirror_mode": {
    "name": "ipython",
    "version": 3
   },
   "file_extension": ".py",
   "mimetype": "text/x-python",
   "name": "python",
   "nbconvert_exporter": "python",
   "pygments_lexer": "ipython3",
   "version": "3.8.5"
  }
 },
 "nbformat": 4,
 "nbformat_minor": 5
}
